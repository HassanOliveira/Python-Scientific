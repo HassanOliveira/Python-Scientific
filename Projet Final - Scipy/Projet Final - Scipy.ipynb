{
 "cells": [
  {
   "cell_type": "markdown",
   "metadata": {},
   "source": [
    "# Hassan Augusto Bittencourt de Oliveira\n",
    "### 22/11/2023"
   ]
  },
  {
   "attachments": {},
   "cell_type": "markdown",
   "metadata": {},
   "source": [
    "Objectif : Construire un réservoir à un coût minimal. Le coût est lié aux variables de conception (diamètre et longueur) car elles influencent la masse du réservoir et les longueurs de soudure. Le problème a d'autres contraintes comme les besoins du réservoir:\n",
    "&nbsp;\n",
    "\n",
    "i) S'insérer dans le fond du camion\n",
    "&nbsp;\n",
    "\n",
    "ii) Transporter le volume de matériel requis.\n",
    "&nbsp;\n",
    "\n",
    "Nous avons résolu le problème pour un volume Vo = 0,8m3."
   ]
  },
  {
   "attachments": {},
   "cell_type": "markdown",
   "metadata": {},
   "source": [
    "Commençons par importer les bibliothèques qui seront utilisées dans le projet.\n",
    "&nbsp;\n",
    "\n",
    "Nous allons utiliser les bibliothèques Numpy et Scipy."
   ]
  },
  {
   "cell_type": "code",
   "execution_count": 1,
   "metadata": {},
   "outputs": [],
   "source": [
    "import numpy as np\n",
    "from scipy.optimize import minimize"
   ]
  },
  {
   "attachments": {},
   "cell_type": "markdown",
   "metadata": {},
   "source": [
    "Définir l'expression objective:"
   ]
  },
  {
   "cell_type": "code",
   "execution_count": 2,
   "metadata": {},
   "outputs": [],
   "source": [
    "def objective(x):\n",
    "    pi = 3.141\n",
    "    return 36000*(x[0]*pi*(((x[1]/2+0.03)**2)-(x[1]/2)**2)+2*pi*((x[1]/2+0.03)**2)*0.03)+80*pi*(x[1]+0.03)"
   ]
  },
  {
   "attachments": {},
   "cell_type": "markdown",
   "metadata": {},
   "source": [
    "Définir les contraintes:"
   ]
  },
  {
   "cell_type": "code",
   "execution_count": 3,
   "metadata": {},
   "outputs": [],
   "source": [
    "def contraintes(x):\n",
    "    pi = 3.1416\n",
    "    return ((pi*(x[1]**2)*x[0])/4)-0.8"
   ]
  },
  {
   "attachments": {},
   "cell_type": "markdown",
   "metadata": {},
   "source": [
    "Fixer une première estimation :"
   ]
  },
  {
   "cell_type": "code",
   "execution_count": 4,
   "metadata": {},
   "outputs": [],
   "source": [
    "n = 2\n",
    "x0 = np.zeros(n)\n",
    "x0[0] = 0.6\n",
    "x0[1] = 0.5"
   ]
  },
  {
   "attachments": {},
   "cell_type": "markdown",
   "metadata": {},
   "source": [
    "Impression de l'expression objective initiale sur la base des estimations initiales:"
   ]
  },
  {
   "cell_type": "code",
   "execution_count": 5,
   "metadata": {},
   "outputs": [
    {
     "name": "stdout",
     "output_type": "stream",
     "text": [
      "Objectif initial: 1743.8329440000007\n"
     ]
    }
   ],
   "source": [
    "print('Objectif initial: ' + str(objective(x0)))"
   ]
  },
  {
   "attachments": {},
   "cell_type": "markdown",
   "metadata": {},
   "source": [
    "Optimisation:"
   ]
  },
  {
   "cell_type": "code",
   "execution_count": 6,
   "metadata": {},
   "outputs": [],
   "source": [
    "a =(0.5,2.0) #limite de x[0]\n",
    "b = (0.1,1.0) #limite de x[1]\n",
    "bnds = (a, b)\n",
    "con1 = {'type': 'eq', 'fun': contraintes} \n",
    "cons = ([con1])\n",
    "solution = minimize(objective,x0,method='SLSQP',\\\n",
    "                    bounds=bnds,constraints=cons)\n",
    "x = solution.x"
   ]
  },
  {
   "attachments": {},
   "cell_type": "markdown",
   "metadata": {},
   "source": [
    "Impression de objectif final:"
   ]
  },
  {
   "cell_type": "code",
   "execution_count": 7,
   "metadata": {},
   "outputs": [
    {
     "name": "stdout",
     "output_type": "stream",
     "text": [
      "Objectif final: 5722.063055090081\n"
     ]
    }
   ],
   "source": [
    "print('Objectif final: ' + str(objective(x)))"
   ]
  },
  {
   "attachments": {},
   "cell_type": "markdown",
   "metadata": {},
   "source": [
    "Impression de solution:"
   ]
  },
  {
   "cell_type": "code",
   "execution_count": 8,
   "metadata": {},
   "outputs": [
    {
     "name": "stdout",
     "output_type": "stream",
     "text": [
      "Solution\n",
      "L = 1.0532313102515471\n",
      "D = 0.9834168932996791\n"
     ]
    }
   ],
   "source": [
    "print('Solution')\n",
    "print('L = ' + str(x[0]))\n",
    "print('D = ' + str(x[1]))"
   ]
  }
 ],
 "metadata": {
  "kernelspec": {
   "display_name": "Python 3",
   "language": "python",
   "name": "python3"
  },
  "language_info": {
   "codemirror_mode": {
    "name": "ipython",
    "version": 3
   },
   "file_extension": ".py",
   "mimetype": "text/x-python",
   "name": "python",
   "nbconvert_exporter": "python",
   "pygments_lexer": "ipython3",
   "version": "3.10.4"
  },
  "orig_nbformat": 4,
  "vscode": {
   "interpreter": {
    "hash": "c2495c10d340f5ac849fbe99c754f41c3ff4d3cf6b9902e8769d7d6c02cec331"
   }
  }
 },
 "nbformat": 4,
 "nbformat_minor": 2
}

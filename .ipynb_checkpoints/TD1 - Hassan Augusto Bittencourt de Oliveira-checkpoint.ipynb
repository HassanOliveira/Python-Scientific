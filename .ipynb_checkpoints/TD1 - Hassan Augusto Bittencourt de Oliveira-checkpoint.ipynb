{
 "cells": [
  {
   "cell_type": "markdown",
   "id": "7133ca6a",
   "metadata": {},
   "source": [
    "### Exercice : Marche aléatoire 1D\n",
    "Programmez une marche aléatoire à 1D où on suppose qu'une particule se déplace sur une droite. \n",
    "\n",
    "Pour chaque pas, la probabilité de faire un pas d'amplitude 1 est de p et de faire un pas d'amplitude -1 est de (q=1-p). Les pas sont supposés indépendants.\n",
    "\n",
    "Vous réaliserez ce programme en introduisant comme paramètres d'entrée p et N, le nombre de pas et SANS boucle.\n",
    "\n",
    "1/ Vous implémenterez cette marche pour différentes valeurs de p et N et vous calculerez pour chaque expérience le déplacement obtenu après N pas.\n",
    "\n",
    "2/ Vous réaliserez l'expérience avec p et N fixés, M fois (Monte Carlo) (cette fois les boucles sont autorisées!) et sauvegarderez le déplacement obtenu au bout de N pas et calculerez les moyennes et écart-types du déplacement.\n",
    "\n",
    "3/ Vous ferez varier M (10, 100, 1000, 10 000) et sauvegarderez dans un tableau de taille 2 lignes et 4 colonnes contenant les moyennes et écart-types pour chaque M.\n",
    "\n",
    "Vous pourrez comparer les valeurs que vous avez obtenues avec  celles de vos voisins (pour cela vous vous transmettrez votre ficier **.npy**) et avec les valeurs théoriques de la moyenne du déplacement ( = N*(2p-1)) et la variance ( = N * 4p*(1-p)).\n",
    "\n",
    "-----------------------------------------------------------------------------\n",
    "\n",
    "### Exercício: 1D Caminhada Aleatória\n",
    "Programar um passeio aleatório 1D em que se assume que uma partícula se move ao longo de uma linha recta. \n",
    "\n",
    "Para cada passo, a probabilidade de dar um passo de magnitude 1 é p e de dar um passo de magnitude -1 é (q=1-p). Assume-se que os passos são independentes.\n",
    "\n",
    "Realizará este programa introduzindo como parâmetros de entrada p e N, o número de passos e SEM loop.\n",
    "\n",
    "1/ Implementará esta caminhada para diferentes valores de p e N e calculará para cada experiência o deslocamento obtido após N etapas.\n",
    "\n",
    "2/ Realizará a experiência com p e N fixo, M vezes (Monte Carlo) (este tempo loops são permitidos!) e guardará o deslocamento obtido após N etapas e calculará as médias e desvios padrão do deslocamento.\n",
    "\n",
    "3/ Vai variar M (10, 100, 1000, 10 000) e guardar num quadro de tamanho 2 filas e 4 colunas contendo os meios e os desvios padrão para cada M.\n",
    "\n",
    "Poderá comparar os valores obtidos com os dos seus vizinhos (para o fazer passará o seu ficheiro **.npy***) e com os valores teóricos da média do deslocamento ( = N*(2p-1)) e da variância ( = N * 4p*(1-p)).\n"
   ]
  },
  {
   "cell_type": "markdown",
   "id": "ad655179",
   "metadata": {},
   "source": [
    "EXERCICE 1 - Vous implémenterez cette marche pour différentes valeurs de p et N et vous calculerez pour chaque expérience le déplacement obtenu après N pas."
   ]
  },
  {
   "cell_type": "code",
   "execution_count": 10,
   "id": "5f432115",
   "metadata": {},
   "outputs": [],
   "source": [
    "import numpy"
   ]
  },
  {
   "cell_type": "code",
   "execution_count": 11,
   "id": "1020af02",
   "metadata": {},
   "outputs": [
    {
     "name": "stdout",
     "output_type": "stream",
     "text": [
      "0.7313915827940382\n",
      "6\n"
     ]
    }
   ],
   "source": [
    "p = numpy.random.rand()    # N'importe quelle valeur pour p (probabilité d'aller de l'avant)\n",
    "N = numpy.random.randint(1,10)  # Une valeur entière pour N entre 1 et 10 (peut être changée en valeurs plus grandes si désiré)\n",
    "q = 1-p # probabilité de retour en arrière\n",
    "print(p)\n",
    "print(N)"
   ]
  },
  {
   "cell_type": "code",
   "execution_count": 12,
   "id": "190e9c96",
   "metadata": {},
   "outputs": [
    {
     "name": "stdout",
     "output_type": "stream",
     "text": [
      "[0.77763295 0.09144    0.37970078 0.15083479 0.42725661 0.80553826]\n"
     ]
    }
   ],
   "source": [
    "random_number = numpy.random.rand(N) # Valeurs aléatoires entre 0 et 1, N fois\n",
    "print(random_number)"
   ]
  },
  {
   "cell_type": "code",
   "execution_count": 13,
   "id": "8c4fe1aa",
   "metadata": {},
   "outputs": [
    {
     "name": "stdout",
     "output_type": "stream",
     "text": [
      "Le deplacement est: 2\n"
     ]
    }
   ],
   "source": [
    "# Le deplacement est le nombre de pas effectués en avant (+1) moins le nombre de pas effectués en arrière (-1)\n",
    "deplacement = int((numpy.size(random_number[random_number > q])) - numpy.size(random_number[random_number <= q]))\n",
    "print(f'Le deplacement est: {deplacement}')\n"
   ]
  },
  {
   "cell_type": "markdown",
   "id": "f0a7bbad",
   "metadata": {},
   "source": [
    "EXERCICE 2 - Vous réaliserez l'expérience avec p et N fixés, M fois (Monte Carlo) (cette fois les boucles sont autorisées!) et sauvegarderez le déplacement obtenu au bout de N pas et calculerez les moyennes et écart-types du déplacement."
   ]
  },
  {
   "cell_type": "code",
   "execution_count": 14,
   "id": "e0bed0f5",
   "metadata": {},
   "outputs": [
    {
     "ename": "ValueError",
     "evalue": "could not convert string to float: ''",
     "output_type": "error",
     "traceback": [
      "\u001b[1;31m---------------------------------------------------------------------------\u001b[0m",
      "\u001b[1;31mValueError\u001b[0m                                Traceback (most recent call last)",
      "Cell \u001b[1;32mIn [14], line 1\u001b[0m\n\u001b[1;32m----> 1\u001b[0m p \u001b[39m=\u001b[39m \u001b[39mfloat\u001b[39;49m(\u001b[39minput\u001b[39;49m(\u001b[39m'\u001b[39;49m\u001b[39mEntrer une valeur pour p: \u001b[39;49m\u001b[39m'\u001b[39;49m))\n",
      "\u001b[1;31mValueError\u001b[0m: could not convert string to float: ''"
     ]
    }
   ],
   "source": [
    "p = float(input('Entrer une valeur pour p: '))"
   ]
  },
  {
   "cell_type": "code",
   "execution_count": null,
   "id": "c81abc30",
   "metadata": {},
   "outputs": [
    {
     "name": "stdout",
     "output_type": "stream",
     "text": [
      "Entrer une valeur pour N: 10\n"
     ]
    }
   ],
   "source": [
    "N = int(input('Entrer une valeur pour N: '))"
   ]
  },
  {
   "cell_type": "code",
   "execution_count": null,
   "id": "a707a217",
   "metadata": {},
   "outputs": [
    {
     "name": "stdout",
     "output_type": "stream",
     "text": [
      "Entrer une valeur pour M: 10\n"
     ]
    }
   ],
   "source": [
    "M = int(input('Entrer une valeur pour M: '))"
   ]
  },
  {
   "cell_type": "code",
   "execution_count": null,
   "id": "42812cec",
   "metadata": {},
   "outputs": [],
   "source": [
    "deplacementTotal = [] # Où les déplacements seront sauvegardés pour calculer ultérieurement la moyenne et l'écart-type\n",
    "MC = 0\n",
    "\n",
    "def marcher(p, N):\n",
    "    while MC < M:\n",
    "        MC = MC + 1\n",
    "        random_number = numpy.random.rand(N) \n",
    "        deplacement = int((numpy.size(random_number[random_number > q])) - numpy.size(random_number[random_number <= q]))\n",
    "        deplacementTotal.append(deplacement)"
   ]
  },
  {
   "cell_type": "code",
   "execution_count": null,
   "id": "c733cd67",
   "metadata": {},
   "outputs": [
    {
     "name": "stdout",
     "output_type": "stream",
     "text": [
      "[-10, -8, -10, -8, -8, -8, -8, -10, -10, -10]\n"
     ]
    }
   ],
   "source": [
    "print(deplacementTotal)"
   ]
  },
  {
   "cell_type": "code",
   "execution_count": null,
   "id": "96710983",
   "metadata": {},
   "outputs": [
    {
     "name": "stdout",
     "output_type": "stream",
     "text": [
      "Le moyen est: -9.0\n"
     ]
    }
   ],
   "source": [
    "# Calcul de la moyenne\n",
    "print(f'Le moyen est: {numpy.mean(deplacementTotal)}')"
   ]
  },
  {
   "cell_type": "code",
   "execution_count": null,
   "id": "66f4942c",
   "metadata": {
    "scrolled": true
   },
   "outputs": [
    {
     "name": "stdout",
     "output_type": "stream",
     "text": [
      "Le écart-types est: 1.0\n"
     ]
    }
   ],
   "source": [
    "# Calcul de l'écart-type\n",
    "print(f'Le écart-types est: {numpy.std(deplacementTotal)}')"
   ]
  },
  {
   "cell_type": "markdown",
   "id": "53e3aaa1",
   "metadata": {},
   "source": [
    "EXERCICE 3 - Vous ferez varier M (10, 100, 1000, 10 000) et sauvegarderez dans un tableau de taille 2 lignes et 4 colonnes contenant les moyennes et écart-types pour chaque M."
   ]
  },
  {
   "cell_type": "code",
   "execution_count": null,
   "id": "6749b693",
   "metadata": {},
   "outputs": [],
   "source": [
    "# Même opération, mais ici nous ajoutons la moyenne et l'écart-type des valeurs pour M=10, M=100, M=1000 et M=10000 dans deux vecteurs séparés.\n",
    "\n",
    "deplacementTotal = []\n",
    "moyen = []\n",
    "ecart_types = []\n",
    "M = 10\n",
    "MC = 0\n",
    "\n",
    "while M < 10001:\n",
    "    while MC < M:\n",
    "        MC = MC + 1\n",
    "        random_number = numpy.random.rand(N)\n",
    "        deplacement = int((numpy.size(random_number[random_number > q])) - numpy.size(random_number[random_number <= q]))\n",
    "        deplacementTotal.append(deplacement)\n",
    "    moyen.append(numpy.mean(deplacementTotal))\n",
    "    ecart_types.append(numpy.std(deplacementTotal))\n",
    "    M = M*10"
   ]
  },
  {
   "cell_type": "code",
   "execution_count": null,
   "id": "32b2f450",
   "metadata": {},
   "outputs": [
    {
     "name": "stdout",
     "output_type": "stream",
     "text": [
      "moyen: [2.4, 1.28, 1.25, 1.3682]\n",
      "ecart_types: [2.2, 2.623280389131135, 2.688772954341813, 2.6035415802325876]\n",
      "tableau: \n",
      "[[2.4        1.28       1.25       1.3682    ]\n",
      " [2.2        2.62328039 2.68877295 2.60354158]]\n"
     ]
    }
   ],
   "source": [
    "# Matrice 2x4 avec moyennes et écart-type\n",
    "tableau = numpy.array([moyen, ecart_types])\n",
    "print(f'moyen: {moyen}')\n",
    "print(f'ecart_types: {ecart_types}')\n",
    "print(f'tableau: \\n{tableau}')"
   ]
  },
  {
   "cell_type": "markdown",
   "id": "b6402937",
   "metadata": {},
   "source": [
    "# TD2\n",
    "## Exercice 1: Marche aléatoire 1D\n",
    "Représentez le déplacement de la marche aléatoire 1D que vous implémenté lors de la manipulation précédente ainsi qu'une figure montrant les moyennes et écart-types obtenus. Vous choisirez la représentation qui vous paraît être la plus appropriée (couleur, titre, légendes doivent être telles que la courbe doit se suffise à elle-même).\n",
    "\n",
    "## Exercice 2: Marche aléatoire 2D\n",
    "Généralisez la marche aléatoire 1D au cas 2D et représentez son déplacement. Vous choisirez la représentation qui vous paraît être la plus appropriée (couleur, titre, légendes doivent être telles que la courbe doit se suffise à elle-même).\n",
    "\n",
    "Attention le déplacement doit se faire perpendiculairement aux axes x et y.\n",
    "\n",
    "## Exercice 3: Fourmi de Langton\n",
    "Une fourmi se déplace sur une grille. Au départ toutes les cases sont blanches et la fourmi est positionnée au centre de la grille tête vers le haut.\n",
    "Si la fourmi est sur une case blanche, elle effectue une rotation  d'un quart de tour vers la gauche, si elle est sur une case noire elle effectue une rotation d' un quart de tour vers la droite. La fourmi inverse la couleur de la case sur laquelle elle se trouve puis avance d'une case dans la direction de son orientation. Programmez le déplacement de la fourmi et le représenter. \n",
    "Observez le comportement de sa trajectoire lorsque le nombre de dépacement est supérieur à 10 000.\n",
    "\n",
    "-----------------------------------------------------------------------------\n",
    "\n",
    "## Exercício 1: Caminhada aleatório 1D\n",
    "Represente o deslocamento do passeio aleatório 1D que você implementou durante a manipulação anterior, bem como uma figura mostrando as médias e desvios padrão obtidos. Você escolherá a representação que lhe parecer mais adequada (cor, título, legendas devem ser tais que a curva seja suficiente por si só).\n",
    "\n",
    "## Exercício 2: Caminhada aleatória 2D\n",
    "Generalize o passeio aleatório 1D para o caso 2D e represente seu deslocamento. Você escolherá a representação que lhe parecer mais adequada (cor, título, legendas devem ser tais que a curva seja suficiente por si só).\n",
    "\n",
    "Observe que o movimento deve ser perpendicular aos eixos x e y.\n",
    "\n",
    "## Exercício 3: Formiga de Langton\n",
    "Uma formiga se move em uma grade. Inicialmente todos os quadrados são brancos e a formiga é posicionada no centro da grade de cabeça para cima.\n",
    "Se a formiga estiver em uma caixa branca, ela gira um quarto de volta para a esquerda, se estiver em uma caixa preta, ela gira um quarto de volta para a direita. A formiga inverte a cor do quadrado em que está e depois avança um quadrado na direção de sua orientação. Programe o movimento da formiga e represente-o.\n",
    "Observe o comportamento de sua trajetória quando o número de deslocamento for maior que 10.000.\n",
    "\n",
    "-----------------------------------------------------------------------------"
   ]
  },
  {
   "cell_type": "code",
   "execution_count": null,
   "id": "0d552203",
   "metadata": {},
   "outputs": [],
   "source": [
    "import matplotlib.pyplot\n",
    "import numpy"
   ]
  },
  {
   "cell_type": "code",
   "execution_count": 64,
   "id": "2fee4e5f",
   "metadata": {},
   "outputs": [
    {
     "data": {
      "image/png": "[encoded data removed]",
      "text/plain": [
       "<Figure size 640x480 with 1 Axes>"
      ]
     },
     "metadata": {},
     "output_type": "display_data"
    }
   ],
   "source": [
    "x = np.linspace(0, N+1, N+1)\n",
    "# Remarque: Ici, on choisit la probabilité utilisé dans la fonction\n",
    "y1 = marcher(p,N)\n",
    "\n",
    "# Et aprés on défine les paramétres de la répresentation\n",
    "matplotlib.pyplot.plot(x,y1,\".--\",linewidth=1, color ='#1407CA')\n",
    "matplotlib.pyplot.grid(True,which=\"both\", linestyle='--')\n",
    "matplotlib.pyplot.yscale(\"linear\")\n",
    "matplotlib.pyplot.title(\"Marche Aléatoire 1D\")\n",
    "matplotlib.pyplot.xlabel(\"N° de pas\")\n",
    "matplotlib.pyplot.ylabel(\"Déplacement totale\")\n",
    "\n",
    "\n",
    "y2 = N*(2*p-1)\n",
    "y3 = N*4*p*(1-p)\n",
    "\n",
    "MT = [y2, y2, y2, y2]\n",
    "DT = numpy.sqrt([y3, y3, y3, y3])\n",
    "M = [10, 100, 1000, 10000]\n",
    "\n",
    "x1 = numpy.array(M)\n",
    "y = numpy.array(moyen) \n",
    "matplotlib.pyplot.plot(x, y) \n",
    "\n",
    "y1 = numpy.array(ecart_types)\n",
    "y2 = numpy.array(MT)\n",
    "y3 = numpy.array(DT)\n",
    "\n",
    "matplotlib.pyplot.plot(x, y1, '-.') \n",
    "matplotlib.pyplot.plot(x, y, label =\"Moyen\")\n",
    "matplotlib.pyplot.plot(x, y1, label =\"Ecart Types\")\n",
    "matplotlib.pyplot.plot(x, y2, label =\"Moyen Théoriques\")\n",
    "matplotlib.pyplot.plot(x, y3, label =\"Variance Théoriques\")\n",
    "\n",
    "matplotlib.pyplot.xlabel(\"M\") \n",
    "matplotlib.pyplot.ylabel(\"Moyen et Ecart Types\") \n",
    "matplotlib.pyplot.title('Multiple Plots') \n",
    "matplotlib.pyplot.legend()\n",
    "matplotlib.pyplot.show() "
   ]
  },
  {
   "cell_type": "code",
   "execution_count": null,
   "id": "0175a386",
   "metadata": {},
   "outputs": [],
   "source": []
  }
 ],
 "metadata": {
  "kernelspec": {
   "display_name": "Python 3 (ipykernel)",
   "language": "python",
   "name": "python3"
  },
  "language_info": {
   "codemirror_mode": {
    "name": "ipython",
    "version": 3
   },
   "file_extension": ".py",
   "mimetype": "text/x-python",
   "name": "python",
   "nbconvert_exporter": "python",
   "pygments_lexer": "ipython3",
   "version": "3.10.4"
  },
  "vscode": {
   "interpreter": {
    "hash": "c2495c10d340f5ac849fbe99c754f41c3ff4d3cf6b9902e8769d7d6c02cec331"
   }
  }
 },
 "nbformat": 4,
 "nbformat_minor": 5
}
